{
 "cells": [
  {
   "cell_type": "markdown",
   "id": "a180246f-1f09-4637-a61e-b13a68868b06",
   "metadata": {},
   "source": [
    "# Zomato Data Analysis Project"
   ]
  },
  {
   "cell_type": "code",
   "execution_count": 3,
   "id": "6e9d04a5-26ac-4c66-8d81-2e19bf434bbf",
   "metadata": {},
   "outputs": [],
   "source": [
    "import numpy as np\n",
    "import pandas as pd\n",
    "import matplotlib.pyplot as plt\n",
    "import seaborn as sns"
   ]
  },
  {
   "cell_type": "code",
   "execution_count": 5,
   "id": "dafdb6e6-7554-4514-964e-4ed50717172a",
   "metadata": {},
   "outputs": [
    {
     "data": {
      "text/html": [
       "<div>\n",
       "<style scoped>\n",
       "    .dataframe tbody tr th:only-of-type {\n",
       "        vertical-align: middle;\n",
       "    }\n",
       "\n",
       "    .dataframe tbody tr th {\n",
       "        vertical-align: top;\n",
       "    }\n",
       "\n",
       "    .dataframe thead th {\n",
       "        text-align: right;\n",
       "    }\n",
       "</style>\n",
       "<table border=\"1\" class=\"dataframe\">\n",
       "  <thead>\n",
       "    <tr style=\"text-align: right;\">\n",
       "      <th></th>\n",
       "      <th>Name</th>\n",
       "      <th>online_order</th>\n",
       "      <th>book_table</th>\n",
       "      <th>rate/5</th>\n",
       "      <th>votes</th>\n",
       "      <th>approx_cost(for two people)</th>\n",
       "      <th>listed_in(type)</th>\n",
       "    </tr>\n",
       "  </thead>\n",
       "  <tbody>\n",
       "    <tr>\n",
       "      <th>0</th>\n",
       "      <td>Spice House</td>\n",
       "      <td>Yes</td>\n",
       "      <td>No</td>\n",
       "      <td>2.6</td>\n",
       "      <td>2158</td>\n",
       "      <td>1552</td>\n",
       "      <td>Café</td>\n",
       "    </tr>\n",
       "    <tr>\n",
       "      <th>1</th>\n",
       "      <td>Grill Corner</td>\n",
       "      <td>Yes</td>\n",
       "      <td>Yes</td>\n",
       "      <td>4.1</td>\n",
       "      <td>810</td>\n",
       "      <td>1412</td>\n",
       "      <td>Dessert Parlor</td>\n",
       "    </tr>\n",
       "    <tr>\n",
       "      <th>2</th>\n",
       "      <td>Ocean Bite</td>\n",
       "      <td>No</td>\n",
       "      <td>Yes</td>\n",
       "      <td>3.8</td>\n",
       "      <td>227</td>\n",
       "      <td>535</td>\n",
       "      <td>Seafood</td>\n",
       "    </tr>\n",
       "    <tr>\n",
       "      <th>3</th>\n",
       "      <td>Tasty Treat</td>\n",
       "      <td>Yes</td>\n",
       "      <td>No</td>\n",
       "      <td>3.2</td>\n",
       "      <td>336</td>\n",
       "      <td>519</td>\n",
       "      <td>Dessert Parlor</td>\n",
       "    </tr>\n",
       "    <tr>\n",
       "      <th>4</th>\n",
       "      <td>Urban Delight</td>\n",
       "      <td>Yes</td>\n",
       "      <td>Yes</td>\n",
       "      <td>2.9</td>\n",
       "      <td>2344</td>\n",
       "      <td>1984</td>\n",
       "      <td>Quick Bites</td>\n",
       "    </tr>\n",
       "  </tbody>\n",
       "</table>\n",
       "</div>"
      ],
      "text/plain": [
       "            Name online_order book_table  rate/5  votes  \\\n",
       "0    Spice House          Yes         No     2.6   2158   \n",
       "1   Grill Corner          Yes        Yes     4.1    810   \n",
       "2     Ocean Bite           No        Yes     3.8    227   \n",
       "3    Tasty Treat          Yes         No     3.2    336   \n",
       "4  Urban Delight          Yes        Yes     2.9   2344   \n",
       "\n",
       "   approx_cost(for two people) listed_in(type)  \n",
       "0                         1552            Café  \n",
       "1                         1412  Dessert Parlor  \n",
       "2                          535         Seafood  \n",
       "3                          519  Dessert Parlor  \n",
       "4                         1984     Quick Bites  "
      ]
     },
     "execution_count": 5,
     "metadata": {},
     "output_type": "execute_result"
    }
   ],
   "source": [
    "dataframes = pd.read_excel(\"Zomato_Data.xlsx\")\n",
    "dataframes.head(5)"
   ]
  },
  {
   "cell_type": "code",
   "execution_count": 7,
   "id": "91264434-27aa-470d-8dc7-174317ab7447",
   "metadata": {},
   "outputs": [
    {
     "data": {
      "text/plain": [
       "Name                           0\n",
       "online_order                   0\n",
       "book_table                     0\n",
       "rate/5                         0\n",
       "votes                          0\n",
       "approx_cost(for two people)    0\n",
       "listed_in(type)                0\n",
       "dtype: int64"
      ]
     },
     "execution_count": 7,
     "metadata": {},
     "output_type": "execute_result"
    }
   ],
   "source": [
    "dataframes.isnull().sum()"
   ]
  },
  {
   "cell_type": "code",
   "execution_count": 8,
   "id": "9fd6922a-3177-4de8-a4bc-60c74305dc9d",
   "metadata": {},
   "outputs": [
    {
     "name": "stdout",
     "output_type": "stream",
     "text": [
      "<class 'pandas.core.frame.DataFrame'>\n",
      "RangeIndex: 200 entries, 0 to 199\n",
      "Data columns (total 7 columns):\n",
      " #   Column                       Non-Null Count  Dtype  \n",
      "---  ------                       --------------  -----  \n",
      " 0   Name                         200 non-null    object \n",
      " 1   online_order                 200 non-null    object \n",
      " 2   book_table                   200 non-null    object \n",
      " 3   rate/5                       200 non-null    float64\n",
      " 4   votes                        200 non-null    int64  \n",
      " 5   approx_cost(for two people)  200 non-null    int64  \n",
      " 6   listed_in(type)              200 non-null    object \n",
      "dtypes: float64(1), int64(2), object(4)\n",
      "memory usage: 11.1+ KB\n"
     ]
    }
   ],
   "source": [
    "dataframes.info()"
   ]
  },
  {
   "cell_type": "code",
   "execution_count": 10,
   "id": "5dd857c2-186d-4697-99d9-41b2e982ad9a",
   "metadata": {},
   "outputs": [
    {
     "data": {
      "text/html": [
       "<div>\n",
       "<style scoped>\n",
       "    .dataframe tbody tr th:only-of-type {\n",
       "        vertical-align: middle;\n",
       "    }\n",
       "\n",
       "    .dataframe tbody tr th {\n",
       "        vertical-align: top;\n",
       "    }\n",
       "\n",
       "    .dataframe thead th {\n",
       "        text-align: right;\n",
       "    }\n",
       "</style>\n",
       "<table border=\"1\" class=\"dataframe\">\n",
       "  <thead>\n",
       "    <tr style=\"text-align: right;\">\n",
       "      <th></th>\n",
       "      <th>Name</th>\n",
       "      <th>online_order</th>\n",
       "      <th>book_table</th>\n",
       "      <th>rate/5</th>\n",
       "      <th>votes</th>\n",
       "      <th>approx_cost(for two people)</th>\n",
       "      <th>listed_in(type)</th>\n",
       "    </tr>\n",
       "  </thead>\n",
       "  <tbody>\n",
       "    <tr>\n",
       "      <th>0</th>\n",
       "      <td>Spice House</td>\n",
       "      <td>Yes</td>\n",
       "      <td>No</td>\n",
       "      <td>2.6</td>\n",
       "      <td>2158</td>\n",
       "      <td>1552</td>\n",
       "      <td>Café</td>\n",
       "    </tr>\n",
       "    <tr>\n",
       "      <th>1</th>\n",
       "      <td>Grill Corner</td>\n",
       "      <td>Yes</td>\n",
       "      <td>Yes</td>\n",
       "      <td>4.1</td>\n",
       "      <td>810</td>\n",
       "      <td>1412</td>\n",
       "      <td>Dessert Parlor</td>\n",
       "    </tr>\n",
       "    <tr>\n",
       "      <th>2</th>\n",
       "      <td>Ocean Bite</td>\n",
       "      <td>No</td>\n",
       "      <td>Yes</td>\n",
       "      <td>3.8</td>\n",
       "      <td>227</td>\n",
       "      <td>535</td>\n",
       "      <td>Seafood</td>\n",
       "    </tr>\n",
       "    <tr>\n",
       "      <th>3</th>\n",
       "      <td>Tasty Treat</td>\n",
       "      <td>Yes</td>\n",
       "      <td>No</td>\n",
       "      <td>3.2</td>\n",
       "      <td>336</td>\n",
       "      <td>519</td>\n",
       "      <td>Dessert Parlor</td>\n",
       "    </tr>\n",
       "    <tr>\n",
       "      <th>4</th>\n",
       "      <td>Urban Delight</td>\n",
       "      <td>Yes</td>\n",
       "      <td>Yes</td>\n",
       "      <td>2.9</td>\n",
       "      <td>2344</td>\n",
       "      <td>1984</td>\n",
       "      <td>Quick Bites</td>\n",
       "    </tr>\n",
       "    <tr>\n",
       "      <th>5</th>\n",
       "      <td>Flavor Spot</td>\n",
       "      <td>No</td>\n",
       "      <td>No</td>\n",
       "      <td>4.1</td>\n",
       "      <td>2321</td>\n",
       "      <td>710</td>\n",
       "      <td>Seafood</td>\n",
       "    </tr>\n",
       "    <tr>\n",
       "      <th>6</th>\n",
       "      <td>Golden Table</td>\n",
       "      <td>Yes</td>\n",
       "      <td>No</td>\n",
       "      <td>3.4</td>\n",
       "      <td>612</td>\n",
       "      <td>268</td>\n",
       "      <td>Café</td>\n",
       "    </tr>\n",
       "    <tr>\n",
       "      <th>7</th>\n",
       "      <td>Sunset Garden</td>\n",
       "      <td>No</td>\n",
       "      <td>Yes</td>\n",
       "      <td>4.9</td>\n",
       "      <td>2283</td>\n",
       "      <td>517</td>\n",
       "      <td>Casual Dining</td>\n",
       "    </tr>\n",
       "    <tr>\n",
       "      <th>8</th>\n",
       "      <td>Crispy Place</td>\n",
       "      <td>No</td>\n",
       "      <td>No</td>\n",
       "      <td>2.7</td>\n",
       "      <td>1350</td>\n",
       "      <td>586</td>\n",
       "      <td>BBQ</td>\n",
       "    </tr>\n",
       "    <tr>\n",
       "      <th>9</th>\n",
       "      <td>Fresh Hub</td>\n",
       "      <td>Yes</td>\n",
       "      <td>No</td>\n",
       "      <td>4.5</td>\n",
       "      <td>1129</td>\n",
       "      <td>829</td>\n",
       "      <td>Quick Bites</td>\n",
       "    </tr>\n",
       "  </tbody>\n",
       "</table>\n",
       "</div>"
      ],
      "text/plain": [
       "            Name online_order book_table  rate/5  votes  \\\n",
       "0    Spice House          Yes         No     2.6   2158   \n",
       "1   Grill Corner          Yes        Yes     4.1    810   \n",
       "2     Ocean Bite           No        Yes     3.8    227   \n",
       "3    Tasty Treat          Yes         No     3.2    336   \n",
       "4  Urban Delight          Yes        Yes     2.9   2344   \n",
       "5    Flavor Spot           No         No     4.1   2321   \n",
       "6   Golden Table          Yes         No     3.4    612   \n",
       "7  Sunset Garden           No        Yes     4.9   2283   \n",
       "8   Crispy Place           No         No     2.7   1350   \n",
       "9      Fresh Hub          Yes         No     4.5   1129   \n",
       "\n",
       "   approx_cost(for two people) listed_in(type)  \n",
       "0                         1552            Café  \n",
       "1                         1412  Dessert Parlor  \n",
       "2                          535         Seafood  \n",
       "3                          519  Dessert Parlor  \n",
       "4                         1984     Quick Bites  \n",
       "5                          710         Seafood  \n",
       "6                          268            Café  \n",
       "7                          517   Casual Dining  \n",
       "8                          586             BBQ  \n",
       "9                          829     Quick Bites  "
      ]
     },
     "execution_count": 10,
     "metadata": {},
     "output_type": "execute_result"
    }
   ],
   "source": [
    "dataframes.head(10)"
   ]
  },
  {
   "cell_type": "code",
   "execution_count": 8,
   "id": "c94da554-bace-49b0-a42e-14e3d502aec1",
   "metadata": {},
   "outputs": [
    {
     "data": {
      "image/png": "[encoded data removed]",
      "text/plain": [
       "<Figure size 640x480 with 1 Axes>"
      ]
     },
     "metadata": {},
     "output_type": "display_data"
    }
   ],
   "source": [
    "sns.countplot(x=dataframes['listed_in(type)'])\n",
    "plt.xlabel(\"Type of Resturant\")\n",
    "plt.xticks(rotation=45)\n",
    "plt.savefig(\"line\", dpi=2000)\n",
    "plt.show()"
   ]
  },
  {
   "cell_type": "markdown",
   "id": "747f47f7-1e02-4a5c-a377-c482ca46aa98",
   "metadata": {},
   "source": [
    "### Majority of resturant falls in Seafood and Pizzeria Categories"
   ]
  },
  {
   "cell_type": "code",
   "execution_count": 20,
   "id": "52c6b49f-8257-4646-bf7c-fdc8df71d373",
   "metadata": {},
   "outputs": [
    {
     "name": "stdout",
     "output_type": "stream",
     "text": [
      "                 votes\n",
      "listed_in(type)       \n",
      "BBQ              37338\n",
      "Café             39386\n",
      "Casual Dining    34926\n",
      "Dessert Parlor   32656\n",
      "Pizzeria         45226\n",
      "Quick Bites      32566\n",
      "Seafood          49551\n"
     ]
    }
   ],
   "source": [
    "grouped_data = dataframes.groupby([\"listed_in(type)\"]).agg({\"votes\":\"sum\"})\n",
    "print(grouped_data)"
   ]
  },
  {
   "cell_type": "code",
   "execution_count": 10,
   "id": "bf85c5a1-f44a-42e6-ae1d-46ace37cfe54",
   "metadata": {},
   "outputs": [
    {
     "data": {
      "image/png": "[encoded data removed]",
      "text/plain": [
       "<Figure size 640x480 with 1 Axes>"
      ]
     },
     "metadata": {},
     "output_type": "display_data"
    }
   ],
   "source": [
    "grouped_data = dataframes.groupby([\"listed_in(type)\"]).agg({\"votes\":\"sum\"})\n",
    "result =pd.DataFrame(grouped_data).reset_index()\n",
    "plt.plot(result[\"listed_in(type)\"],result[\"votes\"], c=\"green\", marker=\"o\")\n",
    "plt.xlabel(\"Type of Resturant\", c=\"red\", size=20)\n",
    "plt.ylabel(\"Votes\", c=\"red\", size=20)\n",
    "plt.title(\"Votes by Resturant Types\")\n",
    "plt.xticks(rotation=45)\n",
    "plt.savefig(\"lineplot\", dpi=2000)\n",
    "plt.show()"
   ]
  },
  {
   "cell_type": "markdown",
   "id": "3ae20a21-1859-4c24-bfb3-644867a4e061",
   "metadata": {},
   "source": [
    "### Seafood Restaurants have received maximum votes"
   ]
  },
  {
   "cell_type": "code",
   "execution_count": 43,
   "id": "d4a14a56-cce1-4f39-a895-5e20269708f7",
   "metadata": {},
   "outputs": [
    {
     "data": {
      "text/html": [
       "<div>\n",
       "<style scoped>\n",
       "    .dataframe tbody tr th:only-of-type {\n",
       "        vertical-align: middle;\n",
       "    }\n",
       "\n",
       "    .dataframe tbody tr th {\n",
       "        vertical-align: top;\n",
       "    }\n",
       "\n",
       "    .dataframe thead th {\n",
       "        text-align: right;\n",
       "    }\n",
       "</style>\n",
       "<table border=\"1\" class=\"dataframe\">\n",
       "  <thead>\n",
       "    <tr style=\"text-align: right;\">\n",
       "      <th></th>\n",
       "      <th>Name</th>\n",
       "      <th>online_order</th>\n",
       "      <th>book_table</th>\n",
       "      <th>rate/5</th>\n",
       "      <th>votes</th>\n",
       "      <th>approx_cost(for two people)</th>\n",
       "      <th>listed_in(type)</th>\n",
       "    </tr>\n",
       "  </thead>\n",
       "  <tbody>\n",
       "    <tr>\n",
       "      <th>0</th>\n",
       "      <td>Spice House</td>\n",
       "      <td>Yes</td>\n",
       "      <td>No</td>\n",
       "      <td>2.6</td>\n",
       "      <td>2158</td>\n",
       "      <td>1552</td>\n",
       "      <td>Café</td>\n",
       "    </tr>\n",
       "    <tr>\n",
       "      <th>1</th>\n",
       "      <td>Grill Corner</td>\n",
       "      <td>Yes</td>\n",
       "      <td>Yes</td>\n",
       "      <td>4.1</td>\n",
       "      <td>810</td>\n",
       "      <td>1412</td>\n",
       "      <td>Dessert Parlor</td>\n",
       "    </tr>\n",
       "    <tr>\n",
       "      <th>2</th>\n",
       "      <td>Ocean Bite</td>\n",
       "      <td>No</td>\n",
       "      <td>Yes</td>\n",
       "      <td>3.8</td>\n",
       "      <td>227</td>\n",
       "      <td>535</td>\n",
       "      <td>Seafood</td>\n",
       "    </tr>\n",
       "    <tr>\n",
       "      <th>3</th>\n",
       "      <td>Tasty Treat</td>\n",
       "      <td>Yes</td>\n",
       "      <td>No</td>\n",
       "      <td>3.2</td>\n",
       "      <td>336</td>\n",
       "      <td>519</td>\n",
       "      <td>Dessert Parlor</td>\n",
       "    </tr>\n",
       "    <tr>\n",
       "      <th>4</th>\n",
       "      <td>Urban Delight</td>\n",
       "      <td>Yes</td>\n",
       "      <td>Yes</td>\n",
       "      <td>2.9</td>\n",
       "      <td>2344</td>\n",
       "      <td>1984</td>\n",
       "      <td>Quick Bites</td>\n",
       "    </tr>\n",
       "    <tr>\n",
       "      <th>5</th>\n",
       "      <td>Flavor Spot</td>\n",
       "      <td>No</td>\n",
       "      <td>No</td>\n",
       "      <td>4.1</td>\n",
       "      <td>2321</td>\n",
       "      <td>710</td>\n",
       "      <td>Seafood</td>\n",
       "    </tr>\n",
       "    <tr>\n",
       "      <th>6</th>\n",
       "      <td>Golden Table</td>\n",
       "      <td>Yes</td>\n",
       "      <td>No</td>\n",
       "      <td>3.4</td>\n",
       "      <td>612</td>\n",
       "      <td>268</td>\n",
       "      <td>Café</td>\n",
       "    </tr>\n",
       "    <tr>\n",
       "      <th>7</th>\n",
       "      <td>Sunset Garden</td>\n",
       "      <td>No</td>\n",
       "      <td>Yes</td>\n",
       "      <td>4.9</td>\n",
       "      <td>2283</td>\n",
       "      <td>517</td>\n",
       "      <td>Casual Dining</td>\n",
       "    </tr>\n",
       "    <tr>\n",
       "      <th>8</th>\n",
       "      <td>Crispy Place</td>\n",
       "      <td>No</td>\n",
       "      <td>No</td>\n",
       "      <td>2.7</td>\n",
       "      <td>1350</td>\n",
       "      <td>586</td>\n",
       "      <td>BBQ</td>\n",
       "    </tr>\n",
       "    <tr>\n",
       "      <th>9</th>\n",
       "      <td>Fresh Hub</td>\n",
       "      <td>Yes</td>\n",
       "      <td>No</td>\n",
       "      <td>4.5</td>\n",
       "      <td>1129</td>\n",
       "      <td>829</td>\n",
       "      <td>Quick Bites</td>\n",
       "    </tr>\n",
       "  </tbody>\n",
       "</table>\n",
       "</div>"
      ],
      "text/plain": [
       "            Name online_order book_table  rate/5  votes  \\\n",
       "0    Spice House          Yes         No     2.6   2158   \n",
       "1   Grill Corner          Yes        Yes     4.1    810   \n",
       "2     Ocean Bite           No        Yes     3.8    227   \n",
       "3    Tasty Treat          Yes         No     3.2    336   \n",
       "4  Urban Delight          Yes        Yes     2.9   2344   \n",
       "5    Flavor Spot           No         No     4.1   2321   \n",
       "6   Golden Table          Yes         No     3.4    612   \n",
       "7  Sunset Garden           No        Yes     4.9   2283   \n",
       "8   Crispy Place           No         No     2.7   1350   \n",
       "9      Fresh Hub          Yes         No     4.5   1129   \n",
       "\n",
       "   approx_cost(for two people) listed_in(type)  \n",
       "0                         1552            Café  \n",
       "1                         1412  Dessert Parlor  \n",
       "2                          535         Seafood  \n",
       "3                          519  Dessert Parlor  \n",
       "4                         1984     Quick Bites  \n",
       "5                          710         Seafood  \n",
       "6                          268            Café  \n",
       "7                          517   Casual Dining  \n",
       "8                          586             BBQ  \n",
       "9                          829     Quick Bites  "
      ]
     },
     "execution_count": 43,
     "metadata": {},
     "output_type": "execute_result"
    }
   ],
   "source": [
    "dataframes.head(10)"
   ]
  },
  {
   "cell_type": "code",
   "execution_count": 11,
   "id": "f199930b-2981-48fd-ae18-304c53a1e24d",
   "metadata": {},
   "outputs": [
    {
     "data": {
      "image/png": "[encoded data removed]",
      "text/plain": [
       "<Figure size 640x480 with 1 Axes>"
      ]
     },
     "metadata": {},
     "output_type": "display_data"
    }
   ],
   "source": [
    "plt.hist(dataframes[\"rate/5\"],bins = 5, edgecolor=\"r\")\n",
    "plt.title(\"ratings distribution\")\n",
    "plt.savefig(\"histplot\", dpi=2000)\n",
    "plt.show()"
   ]
  },
  {
   "cell_type": "markdown",
   "id": "be47d2d1-16c6-4e1c-a3a0-996d67223a91",
   "metadata": {},
   "source": [
    "### The majority resturants recieved ratings from 4.5 to 5.0"
   ]
  },
  {
   "cell_type": "code",
   "execution_count": 48,
   "id": "a57306ed-b614-49ce-9f6f-0a4f451c6e13",
   "metadata": {},
   "outputs": [
    {
     "data": {
      "text/html": [
       "<div>\n",
       "<style scoped>\n",
       "    .dataframe tbody tr th:only-of-type {\n",
       "        vertical-align: middle;\n",
       "    }\n",
       "\n",
       "    .dataframe tbody tr th {\n",
       "        vertical-align: top;\n",
       "    }\n",
       "\n",
       "    .dataframe thead th {\n",
       "        text-align: right;\n",
       "    }\n",
       "</style>\n",
       "<table border=\"1\" class=\"dataframe\">\n",
       "  <thead>\n",
       "    <tr style=\"text-align: right;\">\n",
       "      <th></th>\n",
       "      <th>Name</th>\n",
       "      <th>online_order</th>\n",
       "      <th>book_table</th>\n",
       "      <th>rate/5</th>\n",
       "      <th>votes</th>\n",
       "      <th>approx_cost(for two people)</th>\n",
       "      <th>listed_in(type)</th>\n",
       "    </tr>\n",
       "  </thead>\n",
       "  <tbody>\n",
       "    <tr>\n",
       "      <th>0</th>\n",
       "      <td>Spice House</td>\n",
       "      <td>Yes</td>\n",
       "      <td>No</td>\n",
       "      <td>2.6</td>\n",
       "      <td>2158</td>\n",
       "      <td>1552</td>\n",
       "      <td>Café</td>\n",
       "    </tr>\n",
       "    <tr>\n",
       "      <th>1</th>\n",
       "      <td>Grill Corner</td>\n",
       "      <td>Yes</td>\n",
       "      <td>Yes</td>\n",
       "      <td>4.1</td>\n",
       "      <td>810</td>\n",
       "      <td>1412</td>\n",
       "      <td>Dessert Parlor</td>\n",
       "    </tr>\n",
       "    <tr>\n",
       "      <th>2</th>\n",
       "      <td>Ocean Bite</td>\n",
       "      <td>No</td>\n",
       "      <td>Yes</td>\n",
       "      <td>3.8</td>\n",
       "      <td>227</td>\n",
       "      <td>535</td>\n",
       "      <td>Seafood</td>\n",
       "    </tr>\n",
       "    <tr>\n",
       "      <th>3</th>\n",
       "      <td>Tasty Treat</td>\n",
       "      <td>Yes</td>\n",
       "      <td>No</td>\n",
       "      <td>3.2</td>\n",
       "      <td>336</td>\n",
       "      <td>519</td>\n",
       "      <td>Dessert Parlor</td>\n",
       "    </tr>\n",
       "    <tr>\n",
       "      <th>4</th>\n",
       "      <td>Urban Delight</td>\n",
       "      <td>Yes</td>\n",
       "      <td>Yes</td>\n",
       "      <td>2.9</td>\n",
       "      <td>2344</td>\n",
       "      <td>1984</td>\n",
       "      <td>Quick Bites</td>\n",
       "    </tr>\n",
       "  </tbody>\n",
       "</table>\n",
       "</div>"
      ],
      "text/plain": [
       "            Name online_order book_table  rate/5  votes  \\\n",
       "0    Spice House          Yes         No     2.6   2158   \n",
       "1   Grill Corner          Yes        Yes     4.1    810   \n",
       "2     Ocean Bite           No        Yes     3.8    227   \n",
       "3    Tasty Treat          Yes         No     3.2    336   \n",
       "4  Urban Delight          Yes        Yes     2.9   2344   \n",
       "\n",
       "   approx_cost(for two people) listed_in(type)  \n",
       "0                         1552            Café  \n",
       "1                         1412  Dessert Parlor  \n",
       "2                          535         Seafood  \n",
       "3                          519  Dessert Parlor  \n",
       "4                         1984     Quick Bites  "
      ]
     },
     "execution_count": 48,
     "metadata": {},
     "output_type": "execute_result"
    }
   ],
   "source": [
    "dataframes.head()"
   ]
  },
  {
   "cell_type": "code",
   "execution_count": 13,
   "id": "537cf75a-9b31-45ae-ac4b-544e8403ebaf",
   "metadata": {},
   "outputs": [
    {
     "data": {
      "image/png": "[encoded data removed]",
      "text/plain": [
       "<Figure size 600x600 with 1 Axes>"
      ]
     },
     "metadata": {},
     "output_type": "display_data"
    }
   ],
   "source": [
    "plt.figure(figsize = (6,6))\n",
    "sns.boxplot(x = \"online_order\", y=\"rate/5\", data= dataframes)\n",
    "plt.savefig(\"boxplot\", dpi=2000)\n",
    "plt.show()"
   ]
  },
  {
   "cell_type": "markdown",
   "id": "b9408fa7-1bea-434c-9d9f-9bf6b625ae96",
   "metadata": {},
   "source": [
    "### same rating are online order and offline order"
   ]
  },
  {
   "cell_type": "code",
   "execution_count": 56,
   "id": "c38b8eb3-837a-4391-9173-89c1fb95b658",
   "metadata": {},
   "outputs": [
    {
     "data": {
      "text/html": [
       "<div>\n",
       "<style scoped>\n",
       "    .dataframe tbody tr th:only-of-type {\n",
       "        vertical-align: middle;\n",
       "    }\n",
       "\n",
       "    .dataframe tbody tr th {\n",
       "        vertical-align: top;\n",
       "    }\n",
       "\n",
       "    .dataframe thead th {\n",
       "        text-align: right;\n",
       "    }\n",
       "</style>\n",
       "<table border=\"1\" class=\"dataframe\">\n",
       "  <thead>\n",
       "    <tr style=\"text-align: right;\">\n",
       "      <th></th>\n",
       "      <th>Name</th>\n",
       "      <th>online_order</th>\n",
       "      <th>book_table</th>\n",
       "      <th>rate/5</th>\n",
       "      <th>votes</th>\n",
       "      <th>approx_cost(for two people)</th>\n",
       "      <th>listed_in(type)</th>\n",
       "    </tr>\n",
       "  </thead>\n",
       "  <tbody>\n",
       "    <tr>\n",
       "      <th>0</th>\n",
       "      <td>Spice House</td>\n",
       "      <td>Yes</td>\n",
       "      <td>No</td>\n",
       "      <td>2.6</td>\n",
       "      <td>2158</td>\n",
       "      <td>1552</td>\n",
       "      <td>Café</td>\n",
       "    </tr>\n",
       "    <tr>\n",
       "      <th>1</th>\n",
       "      <td>Grill Corner</td>\n",
       "      <td>Yes</td>\n",
       "      <td>Yes</td>\n",
       "      <td>4.1</td>\n",
       "      <td>810</td>\n",
       "      <td>1412</td>\n",
       "      <td>Dessert Parlor</td>\n",
       "    </tr>\n",
       "    <tr>\n",
       "      <th>2</th>\n",
       "      <td>Ocean Bite</td>\n",
       "      <td>No</td>\n",
       "      <td>Yes</td>\n",
       "      <td>3.8</td>\n",
       "      <td>227</td>\n",
       "      <td>535</td>\n",
       "      <td>Seafood</td>\n",
       "    </tr>\n",
       "    <tr>\n",
       "      <th>3</th>\n",
       "      <td>Tasty Treat</td>\n",
       "      <td>Yes</td>\n",
       "      <td>No</td>\n",
       "      <td>3.2</td>\n",
       "      <td>336</td>\n",
       "      <td>519</td>\n",
       "      <td>Dessert Parlor</td>\n",
       "    </tr>\n",
       "    <tr>\n",
       "      <th>4</th>\n",
       "      <td>Urban Delight</td>\n",
       "      <td>Yes</td>\n",
       "      <td>Yes</td>\n",
       "      <td>2.9</td>\n",
       "      <td>2344</td>\n",
       "      <td>1984</td>\n",
       "      <td>Quick Bites</td>\n",
       "    </tr>\n",
       "  </tbody>\n",
       "</table>\n",
       "</div>"
      ],
      "text/plain": [
       "            Name online_order book_table  rate/5  votes  \\\n",
       "0    Spice House          Yes         No     2.6   2158   \n",
       "1   Grill Corner          Yes        Yes     4.1    810   \n",
       "2     Ocean Bite           No        Yes     3.8    227   \n",
       "3    Tasty Treat          Yes         No     3.2    336   \n",
       "4  Urban Delight          Yes        Yes     2.9   2344   \n",
       "\n",
       "   approx_cost(for two people) listed_in(type)  \n",
       "0                         1552            Café  \n",
       "1                         1412  Dessert Parlor  \n",
       "2                          535         Seafood  \n",
       "3                          519  Dessert Parlor  \n",
       "4                         1984     Quick Bites  "
      ]
     },
     "execution_count": 56,
     "metadata": {},
     "output_type": "execute_result"
    }
   ],
   "source": [
    "dataframes.head()"
   ]
  },
  {
   "cell_type": "code",
   "execution_count": 14,
   "id": "718e461e-e716-410a-80ba-f57a647688fb",
   "metadata": {},
   "outputs": [
    {
     "data": {
      "image/png": "[encoded data removed]",
      "text/plain": [
       "<Figure size 640x480 with 2 Axes>"
      ]
     },
     "metadata": {},
     "output_type": "display_data"
    }
   ],
   "source": [
    "pivot_table = dataframes.pivot_table(index=\"listed_in(type)\", columns=\"online_order\", aggfunc=\"size\", fill_value=0)\n",
    "\n",
    "# Creating a heatmap with annotations\n",
    "sns.heatmap(pivot_table, annot=True, cmap=\"YlGnBu\", fmt='d')\n",
    "\n",
    "# Adding labels and title\n",
    "plt.title(\"Online Orders by Restaurant Type\")\n",
    "plt.xlabel(\"Online Order\")\n",
    "plt.ylabel(\"Restaurant Type\")\n",
    "plt.savefig(\"heatmapplot\", dpi=2000)\n",
    "plt.show()"
   ]
  },
  {
   "cell_type": "markdown",
   "id": "78393fd5-4822-4c06-b426-600d4acb8dc8",
   "metadata": {},
   "source": [
    "### Seafood Resturants primarity accept offline orders, Whereas Cafes and Pizzerias recieve online orders. This Suggests that clints prefers oders in person at resturants, But prefer online ordering  at Cafes and Pizzerias."
   ]
  },
  {
   "cell_type": "code",
   "execution_count": null,
   "id": "de4ecd8e-e0b6-4167-b3b3-ed119d94f243",
   "metadata": {},
   "outputs": [],
   "source": [
    "c"
   ]
  }
 ],
 "metadata": {
  "kernelspec": {
   "display_name": "Python 3 (ipykernel)",
   "language": "python",
   "name": "python3"
  },
  "language_info": {
   "codemirror_mode": {
    "name": "ipython",
    "version": 3
   },
   "file_extension": ".py",
   "mimetype": "text/x-python",
   "name": "python",
   "nbconvert_exporter": "python",
   "pygments_lexer": "ipython3",
   "version": "3.12.4"
  }
 },
 "nbformat": 4,
 "nbformat_minor": 5
}
